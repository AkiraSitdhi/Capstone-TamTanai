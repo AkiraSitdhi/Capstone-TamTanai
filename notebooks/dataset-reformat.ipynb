{
 "cells": [
  {
   "cell_type": "code",
   "execution_count": null,
   "metadata": {},
   "outputs": [],
   "source": [
    "import re\n",
    "import os\n",
    "import sys\n",
    "import shutil\n",
    "from glob import glob\n",
    "from tqdm import tqdm"
   ]
  },
  {
   "cell_type": "code",
   "execution_count": null,
   "metadata": {},
   "outputs": [],
   "source": [
    "thai_to_arabic = {\n",
    "    '๐': '0', '๑': '1', '๒': '2', '๓': '3', '๔': '4',\n",
    "    '๕': '5', '๖': '6', '๗': '7', '๘': '8', '๙': '9'\n",
    "}\n",
    "def convert_thai_to_arabic(text):\n",
    "    return ''.join(thai_to_arabic.get(char, char) for char in text)\n",
    "\n",
    "# def remove_extra_strings(content, extra):\n",
    "#     escaped_extra = [re.escape(s) for s in extra]\n",
    "#     pattern = '|'.join(escaped_extra)\n",
    "#     return re.sub(pattern, '', content)\n",
    "\n",
    "\n",
    "def walk(directory, export_directory=\"_ตรวจแล้ว\", extra=[]):\n",
    "    shutil.copytree(directory, f'{export_directory}/{directory}')\n",
    "    for file_path in tqdm(glob(os.path.join(f'{export_directory}/{directory}', '**/*.txt'), recursive=True)):\n",
    "        with open(file_path, 'r', encoding=\"utf-8\") as f:\n",
    "            content = f.read()\n",
    "\n",
    "        # content = content.replace('พระราชบัญญัติเครื่องหมายการค้า พ.ศ. ๒๕๓๔ -','พระราชบัญญัติเครื่องหมายการค้า (ฉบับที่ ๓) พ.ศ. ๒๕๕๙ -')\n",
    "        content = re.sub(r'\\[\\d+\\]', '', content)\n",
    "        content = convert_thai_to_arabic(content)\n",
    "\n",
    "        with open(file_path, 'w', encoding=\"utf-8\") as f:\n",
    "            f.write(content)\n",
    "\n",
    "def rename(directory, old_name, new_name):\n",
    "    for file_path in tqdm(glob(os.path.join(directory, '**/*.txt'), recursive=True)):\n",
    "        basename = os.path.basename(file_path)\n",
    "        if old_name in basename:\n",
    "            new_basename = basename.replace(old_name, new_name)\n",
    "            new_file_path = os.path.join(os.path.dirname(file_path), new_basename)\n",
    "            os.rename(file_path, new_file_path)\n",
    "\n",
    "def edit(directory, old_content, new_content):\n",
    "    for file_path in tqdm(glob(os.path.join(directory, '**/*.txt'), recursive=True)):\n",
    "        with open(file_path, 'r', encoding=\"utf-8\") as f:\n",
    "            content = f.read()\n",
    "\n",
    "        content = content.strip()\n",
    "        content = content.replace(old_content,new_content)\n",
    "\n",
    "        with open(file_path, 'w', encoding=\"utf-8\") as f:\n",
    "            f.write(content)"
   ]
  },
  {
   "cell_type": "code",
   "execution_count": null,
   "metadata": {},
   "outputs": [],
   "source": [
    "walk('พระราชบัญญัติว่าด้วยราคาสินค้าและบริการ')"
   ]
  },
  {
   "cell_type": "code",
   "execution_count": null,
   "metadata": {},
   "outputs": [],
   "source": [
    "rename('_ตรวจแล้ว/พระราชบัญญัติล้มละลาย','_ส่วนที่','_ส่วน')"
   ]
  },
  {
   "cell_type": "code",
   "execution_count": null,
   "metadata": {},
   "outputs": [],
   "source": [
    "edit('_ตรวจแล้ว/พระราชบัญญัติการแข่งขันทางการค้า','พระราชบัญญัติการแข่งขันทางการค้า - ','พระราชบัญญัติการแข่งขันทางการค้า พ.ศ. 2560 - ')"
   ]
  }
 ],
 "metadata": {
  "kernelspec": {
   "display_name": "Python 3",
   "language": "python",
   "name": "python3"
  },
  "language_info": {
   "codemirror_mode": {
    "name": "ipython",
    "version": 3
   },
   "file_extension": ".py",
   "mimetype": "text/x-python",
   "name": "python",
   "nbconvert_exporter": "python",
   "pygments_lexer": "ipython3",
   "version": "3.11.6"
  }
 },
 "nbformat": 4,
 "nbformat_minor": 2
}
