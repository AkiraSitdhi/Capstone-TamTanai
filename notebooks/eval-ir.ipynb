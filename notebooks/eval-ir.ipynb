{
 "cells": [
  {
   "cell_type": "code",
   "execution_count": null,
   "metadata": {},
   "outputs": [],
   "source": [
    "import pandas as pd\n",
    "from tqdm import tqdm\n",
    "import json"
   ]
  },
  {
   "cell_type": "code",
   "execution_count": null,
   "metadata": {},
   "outputs": [],
   "source": [
    "df_base = pd.read_csv('ir/ir-base.csv',encoding='utf-8')\n",
    "df_ir = pd.read_csv('cosine_sim_test/ir-new05.csv',encoding='utf-8')\n",
    "df = pd.merge(df_base, df_ir, on=['question','answer','knowledges','prompt'], how='inner')\n",
    "len(df)"
   ]
  },
  {
   "cell_type": "code",
   "execution_count": null,
   "metadata": {},
   "outputs": [],
   "source": [
    "df['bt'].mean(), df['irt'].mean()"
   ]
  },
  {
   "cell_type": "code",
   "execution_count": null,
   "metadata": {},
   "outputs": [],
   "source": [
    "df_base = pd.read_csv('ir/ir-base.csv',encoding='utf-8')\n",
    "df_ir = pd.read_csv('cosine_sim_test/ir-new05.csv',encoding='utf-8')\n",
    "df = pd.merge(df_base, df_ir, on=['question','answer','knowledges','prompt'], how='inner')\n",
    "print(len(df))\n",
    "# print(\"null count\",(df['b']==[]).sum(),(df['ir']==[]).sum())\n",
    "\n",
    "df['bt'].mean(), df['irt'].mean()"
   ]
  },
  {
   "cell_type": "markdown",
   "metadata": {},
   "source": [
    "## accuracy"
   ]
  },
  {
   "cell_type": "code",
   "execution_count": null,
   "metadata": {},
   "outputs": [],
   "source": [
    "cir = 0\n",
    "cb = 0\n",
    "\n",
    "for index, row in tqdm(df.iterrows()):\n",
    "    # if (index not in [50,109]): continue\n",
    "    ref = row[\"knowledges\"].replace(\"\\r\",\"\")\n",
    "    ref = ref.split(\"\\n\\n\")\n",
    "    ref = \"\\n\\n\".join(ref[1:])\n",
    "\n",
    "\n",
    "    jir = list(set(eval(row['ir'])[:2]))\n",
    "    for k in jir:\n",
    "        ir = k.replace(\"\\r\",\"\")\n",
    "        if ref in ir: \n",
    "            cir+=1\n",
    "            break\n",
    "    \n",
    "    jb = list(set(eval(row[\"b\"])[:3]))\n",
    "    for k in jb:\n",
    "        b = k.replace(\"\\r\",\"\")\n",
    "        if ref in b: \n",
    "            cb+=1\n",
    "            break\n",
    "\n",
    "cb/len(df), cir/len(df)"
   ]
  },
  {
   "cell_type": "markdown",
   "metadata": {},
   "source": [
    "## precision recall f1"
   ]
  },
  {
   "cell_type": "code",
   "execution_count": null,
   "metadata": {},
   "outputs": [],
   "source": [
    "itp = 0; ifp=0; ifn=0; it=0\n",
    "btp = 0; bfp=0; bfn=0; bt=0\n",
    "\n",
    "for index, row in tqdm(df.iterrows()):\n",
    "    # if (index not in [50,109]): continue\n",
    "    ref = row[\"knowledges\"].replace(\"\\r\",\"\")\n",
    "    ref = ref.split(\"\\n\\n\")\n",
    "    ref = \"\\n\\n\".join(ref[1:])\n",
    "\n",
    "    found=False\n",
    "    jir = list(set(eval(row['ir'])[:2]))\n",
    "    for k in jir:\n",
    "        ir = k.replace(\"\\r\",\"\")\n",
    "        if ref in ir: \n",
    "            itp+=1\n",
    "            found=True\n",
    "        else:\n",
    "            ifp+=1\n",
    "        it+=1\n",
    "    if not found: ifn+=1\n",
    "        \n",
    "    found=False\n",
    "    jb = list(set(eval(row[\"b\"])[:3]))\n",
    "    for k in jb:\n",
    "        b = k.replace(\"\\r\",\"\")\n",
    "        if ref in b: \n",
    "            btp+=1\n",
    "            found=True\n",
    "        else:\n",
    "            bfp+=1\n",
    "        bt+=1\n",
    "    if not found: bfn+=1\n",
    "\n",
    "print(\"baseline\",btp/(btp+bfp),btp/(btp+bfn),2*(btp/(btp+bfp))*(btp/(btp+bfn))/((btp/(btp+bfp))+(btp/(btp+bfn))))\n",
    "print(\"improved\",itp/(itp+ifp),itp/(itp+ifn),2*(itp/(itp+ifp))*(itp/(itp+ifn))/((itp/(itp+ifp))+(itp/(itp+ifn))))"
   ]
  },
  {
   "cell_type": "markdown",
   "metadata": {},
   "source": [
    "## golden chunk"
   ]
  },
  {
   "cell_type": "code",
   "execution_count": null,
   "metadata": {},
   "outputs": [],
   "source": [
    "cir = 0\n",
    "cb = 0\n",
    "\n",
    "for index, row in tqdm(df.iterrows()):\n",
    "    # if (index!=13): continue\n",
    "    ref = row[\"knowledges\"].replace(\"\\r\",\"\")\n",
    "    ref = ref.split(\"\\n\\n\")\n",
    "    ref = \"\\n\\n\".join(ref[1:])\n",
    "\n",
    "    if not isinstance(row[\"ir\"], float):\n",
    "        ir = row[\"ir\"].replace(\"\\r\",\"\")\n",
    "    b = row[\"b\"].replace(\"\\r\",\"\")\n",
    "\n",
    "    if ref in ir: cir+=1\n",
    "    if ref in b: cb+=1"
   ]
  },
  {
   "cell_type": "code",
   "execution_count": null,
   "metadata": {},
   "outputs": [],
   "source": [
    "cb/len(df), cir/len(df)"
   ]
  },
  {
   "cell_type": "markdown",
   "metadata": {},
   "source": [
    "## Chunk priority"
   ]
  },
  {
   "cell_type": "code",
   "execution_count": null,
   "metadata": {},
   "outputs": [],
   "source": [
    "cir = 0\n",
    "cb = 0\n",
    "irs = []\n",
    "bs = []\n",
    "\n",
    "for index, row in tqdm(df.iterrows()):\n",
    "    # if (index!=13): continue\n",
    "    ref = row[\"knowledges\"].replace(\"\\r\",\"\")\n",
    "    ref = ref.split(\"\\n\\n\")\n",
    "    ref = \"\\n\\n\".join(ref[1:])\n",
    "\n",
    "    b = row[\"b\"].replace(\"\\r\",\"\")\n",
    "    b = b.split(\"\\n\\n\")\n",
    "    bs.append(b)\n",
    "    "
   ]
  },
  {
   "cell_type": "code",
   "execution_count": null,
   "metadata": {},
   "outputs": [],
   "source": [
    "bs[0]"
   ]
  },
  {
   "cell_type": "code",
   "execution_count": null,
   "metadata": {},
   "outputs": [],
   "source": []
  }
 ],
 "metadata": {
  "kernelspec": {
   "display_name": "Python 3",
   "language": "python",
   "name": "python3"
  },
  "language_info": {
   "codemirror_mode": {
    "name": "ipython",
    "version": 3
   },
   "file_extension": ".py",
   "mimetype": "text/x-python",
   "name": "python",
   "nbconvert_exporter": "python",
   "pygments_lexer": "ipython3",
   "version": "3.10.11"
  }
 },
 "nbformat": 4,
 "nbformat_minor": 2
}
