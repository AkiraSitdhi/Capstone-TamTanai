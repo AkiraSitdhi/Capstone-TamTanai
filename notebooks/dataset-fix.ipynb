{
 "cells": [
  {
   "cell_type": "code",
   "execution_count": 79,
   "metadata": {},
   "outputs": [],
   "source": [
    "import pandas as pd\n",
    "import numpy as np\n",
    "import re\n",
    "from tqdm import tqdm\n",
    "from transformers import AutoTokenizer\n",
    "tokenizer = AutoTokenizer.from_pretrained(\"TheBloke/typhoon-7B-AWQ\")"
   ]
  },
  {
   "cell_type": "code",
   "execution_count": 87,
   "metadata": {},
   "outputs": [
    {
     "data": {
      "text/html": [
       "<div>\n",
       "<style scoped>\n",
       "    .dataframe tbody tr th:only-of-type {\n",
       "        vertical-align: middle;\n",
       "    }\n",
       "\n",
       "    .dataframe tbody tr th {\n",
       "        vertical-align: top;\n",
       "    }\n",
       "\n",
       "    .dataframe thead th {\n",
       "        text-align: right;\n",
       "    }\n",
       "</style>\n",
       "<table border=\"1\" class=\"dataframe\">\n",
       "  <thead>\n",
       "    <tr style=\"text-align: right;\">\n",
       "      <th></th>\n",
       "      <th>question</th>\n",
       "      <th>answer</th>\n",
       "      <th>references</th>\n",
       "      <th>source</th>\n",
       "    </tr>\n",
       "  </thead>\n",
       "  <tbody>\n",
       "    <tr>\n",
       "      <th>0</th>\n",
       "      <td>หากมีการจ้างทำของเป็นการงานทำขึ้นบนอสังหาริมทร...</td>\n",
       "      <td>บุริมสิทธิที่เกิดจากการจ้างทำของเป็นการงานทำขึ...</td>\n",
       "      <td>อ้างอิงจากมาตรา 275 ของประมวลกฎหมายแพ่งและพาณิชย์</td>\n",
       "      <td>_ตรวจแล้ว/ประมวลกฎหมายแพ่งและพาณิชย์/ประมวลกฎห...</td>\n",
       "    </tr>\n",
       "    <tr>\n",
       "      <th>1</th>\n",
       "      <td>ในกรณีที่ผู้กระทำความผิดเป็นนิติบุคคล และความผ...</td>\n",
       "      <td>บุคคลนั้นต้องรับโทษตามที่บัญญัติไว้สำหรับความผ...</td>\n",
       "      <td>อ้างอิงจากมาตรา 42 ของพระราชบัญญัติว่าด้วยราคา...</td>\n",
       "      <td>_ตรวจแล้ว/พระราชบัญญัติว่าด้วยราคาสินค้าและบริ...</td>\n",
       "    </tr>\n",
       "  </tbody>\n",
       "</table>\n",
       "</div>"
      ],
      "text/plain": [
       "                                            question  \\\n",
       "0  หากมีการจ้างทำของเป็นการงานทำขึ้นบนอสังหาริมทร...   \n",
       "1  ในกรณีที่ผู้กระทำความผิดเป็นนิติบุคคล และความผ...   \n",
       "\n",
       "                                              answer  \\\n",
       "0  บุริมสิทธิที่เกิดจากการจ้างทำของเป็นการงานทำขึ...   \n",
       "1  บุคคลนั้นต้องรับโทษตามที่บัญญัติไว้สำหรับความผ...   \n",
       "\n",
       "                                          references  \\\n",
       "0  อ้างอิงจากมาตรา 275 ของประมวลกฎหมายแพ่งและพาณิชย์   \n",
       "1  อ้างอิงจากมาตรา 42 ของพระราชบัญญัติว่าด้วยราคา...   \n",
       "\n",
       "                                              source  \n",
       "0  _ตรวจแล้ว/ประมวลกฎหมายแพ่งและพาณิชย์/ประมวลกฎห...  \n",
       "1  _ตรวจแล้ว/พระราชบัญญัติว่าด้วยราคาสินค้าและบริ...  "
      ]
     },
     "execution_count": 87,
     "metadata": {},
     "output_type": "execute_result"
    }
   ],
   "source": [
    "dataset = pd.read_csv('dataset.csv',encoding='utf-8')\n",
    "dataset[\"source\"] = dataset[\"source\"].apply(lambda x: x.replace(\"\\\\\",\"/\"))\n",
    "dataset.head(2)"
   ]
  },
  {
   "cell_type": "code",
   "execution_count": 64,
   "metadata": {},
   "outputs": [
    {
     "name": "stdout",
     "output_type": "stream",
     "text": [
      ">> มาตรา ภูมิพลอดุลยเดช ป.ร.\n",
      "ให้ไว้ ณ วันที่ 30 พฤศจิกายน พ.ศ. 2497 เป็นปีที่ 9 ในรัชกาลปัจจุบัน\n",
      "\n",
      "พระบาทสมเด็จพระปรมินทรมหาภูมิพลอดุลยเดช มีพระบรมราชโองการโปรดเกล้าฯ ให้ประกาศว่า\n",
      "โดยที่เป็นการสมควรที่จะประกาศใช้ประมวลกฎหมายที่ดิน\n",
      "จึงทรงพระกรุณาโปรดเกล้าฯ ให้ตราพระราชบัญญัติขึ้นไว้โดยคำแนะนำและยินยอมของสภาผู้แทนราษฎร ดังต่อไปนี้ <<\n",
      "======\n",
      "\n",
      ">> มาตรา 1  พระราชบัญญัตินี้เรียกว่า “พระราชบัญญัติให้ใช้ประมวลกฎหมายที่ดิน พ.ศ. 2497” <<\n",
      "======\n",
      "\n",
      ">> มาตรา 2  พระราชบัญญัตินี้ให้ใช้บังคับตั้งแต่วันถัดจากวันประกาศในราชกิจจานุเบกษาเป็นต้นไป <<\n",
      "======\n",
      "\n"
     ]
    }
   ],
   "source": [
    "with open(\"test.txt\", 'r') as f:\n",
    "    raw = f.readlines()\n",
    "    header = raw[0].strip()\n",
    "    sections = \"\\n\\n\"+(\"\".join(raw[1:]).strip())\n",
    "    sections = sections.split(\"\\n\\nมาตรา\")\n",
    "# pattern = r'มาตรา\\s?\\d+'\n",
    "sections = [f\"มาตรา {section.strip()}\" for section in sections]\n",
    "if sections[0] == \"มาตรา \": sections = sections[1:]\n",
    "for i in range(3): print(\">>\",sections[i],\"<<\\n======\\n\")"
   ]
  },
  {
   "cell_type": "code",
   "execution_count": 83,
   "metadata": {},
   "outputs": [],
   "source": [
    "def get_knowledge(question,answer,ref,source,threshold=2000):\n",
    "    with open(source, 'r') as f:\n",
    "        raw = f.readlines()\n",
    "        header = raw[0].strip()\n",
    "        sections = \"\\n\\n\"+(\"\".join(raw[1:]).strip())\n",
    "        sections = sections.split(\"\\n\\nมาตรา\")\n",
    "    # pattern = r'มาตรา\\s?\\d+'\n",
    "    sections = [f\"มาตรา {section.strip()}\" for section in sections]\n",
    "    if sections[0] == \"มาตรา \": sections = sections[1:]\n",
    "    pattern = r'มาตรา\\s?\\d+(?:/\\d+)?'\n",
    "    keywords = list(set(re.findall(pattern, question) + re.findall(pattern, answer) + re.findall(pattern, ref)))\n",
    "\n",
    "    extracted_content = {}\n",
    "\n",
    "    # Iterate through keywords to find and extract relevant sections\n",
    "    for keyword in keywords:\n",
    "        # Compile a regex pattern to match the section starting with the keyword\n",
    "        pattern = re.compile(r'^' + re.escape(keyword) + r' ', re.MULTILINE)\n",
    "        \n",
    "        for section in sections:\n",
    "            if pattern.search(section):\n",
    "                extracted_content[keyword] = section\n",
    "                break  # Assuming each keyword uniquely identifies a section\n",
    "\n",
    "    # Now, extracted_content contains the sections for the specified keywords\n",
    "    if len(extracted_content) == 0:\n",
    "        knowledges = \"\".join(raw)\n",
    "    else:\n",
    "        knowledges = f\"{header}\\n\\n\"+\"\\n\\n\".join(list(extracted_content.values()))\n",
    "    # if len(keywords)>1:\n",
    "    #     for key, value in extracted_content.items():\n",
    "    #         print(f\"{key}:\\n{value}\\n\")\n",
    "    #     print(\"\\n=====================================\\n\")\n",
    "    if len(tokenizer.tokenize(knowledges))>threshold:\n",
    "        return False, knowledges\n",
    "    return True, knowledges\n",
    "\n",
    "\n",
    "    # if len(keywords)>1:\n",
    "    #     return True, keywords\n",
    "    # else: return False, keywords"
   ]
  },
  {
   "cell_type": "code",
   "execution_count": 89,
   "metadata": {},
   "outputs": [
    {
     "name": "stderr",
     "output_type": "stream",
     "text": [
      "0it [00:00, ?it/s]"
     ]
    },
    {
     "name": "stderr",
     "output_type": "stream",
     "text": [
      "4121it [00:01, 2577.18it/s]\n"
     ]
    },
    {
     "name": "stdout",
     "output_type": "stream",
     "text": [
      "32\n"
     ]
    }
   ],
   "source": [
    "knowledges = []\n",
    "attention = []\n",
    "tmp = dataset.copy()\n",
    "for index, row in tqdm(tmp.iterrows()):\n",
    "    question = row['question']\n",
    "    answer = row['answer']\n",
    "    ref = row['references']\n",
    "    src = row['source']\n",
    "    notMatches, legals = get_knowledge(question,answer,ref,src)\n",
    "    knowledges.append(legals)\n",
    "    attention.append(notMatches)\n",
    "tmp[\"knowledges\"] = knowledges\n",
    "tmp[attention].to_csv('attention.csv',index=False,encoding='utf-8')\n",
    "print(attention.count(False))"
   ]
  },
  {
   "cell_type": "code",
   "execution_count": 91,
   "metadata": {},
   "outputs": [],
   "source": [
    "inverted_attention = [not i for i in attention]\n",
    "tmp[inverted_attention].to_csv('attention_need_fix.csv',index=False,encoding='utf-8')"
   ]
  },
  {
   "cell_type": "code",
   "execution_count": 95,
   "metadata": {},
   "outputs": [],
   "source": [
    "dataset_fixed = pd.read_csv('attention_fixed.csv',encoding='utf-8').reset_index(drop=True)\n",
    "dataset_passed = pd.read_csv('attention.csv',encoding='utf-8').reset_index(drop=True)\n",
    "dataset_new = pd.concat([dataset_fixed,dataset_passed],ignore_index=True)\n",
    "dataset_new = dataset_new.sample(frac=1,random_state=2024).reset_index(drop=True)\n"
   ]
  },
  {
   "cell_type": "code",
   "execution_count": 96,
   "metadata": {},
   "outputs": [
    {
     "data": {
      "text/html": [
       "<div>\n",
       "<style scoped>\n",
       "    .dataframe tbody tr th:only-of-type {\n",
       "        vertical-align: middle;\n",
       "    }\n",
       "\n",
       "    .dataframe tbody tr th {\n",
       "        vertical-align: top;\n",
       "    }\n",
       "\n",
       "    .dataframe thead th {\n",
       "        text-align: right;\n",
       "    }\n",
       "</style>\n",
       "<table border=\"1\" class=\"dataframe\">\n",
       "  <thead>\n",
       "    <tr style=\"text-align: right;\">\n",
       "      <th></th>\n",
       "      <th>question</th>\n",
       "      <th>answer</th>\n",
       "      <th>references</th>\n",
       "      <th>source</th>\n",
       "      <th>knowledges</th>\n",
       "    </tr>\n",
       "  </thead>\n",
       "  <tbody>\n",
       "    <tr>\n",
       "      <th>0</th>\n",
       "      <td>ศาลมีอำนาจใดในการพิจารณาคดีเกี่ยวกับยาเสพติดตา...</td>\n",
       "      <td>ศาลมีอำนาจพิจารณาพิพากษาคดีโดยคำนึงถึงการสงเคร...</td>\n",
       "      <td>มาตรา 165 ของประมวลกฎหมายยาเสพติด</td>\n",
       "      <td>_ตรวจแล้ว/ประมวลกฎหมายยาเสพติด/ประมวลกฎหมายยาเ...</td>\n",
       "      <td>ประมวลกฎหมายยาเสพติด - ภาค 3 (บทกำหนดโทษ) - ลั...</td>\n",
       "    </tr>\n",
       "    <tr>\n",
       "      <th>1</th>\n",
       "      <td>เมื่อไหร่ที่สมาคมนายจ้างจะถือว่าเลิก</td>\n",
       "      <td>สมาคมนายจ้างย่อมเลิกด้วยเหตุใดเหตุหนึ่ง ดังต่อ...</td>\n",
       "      <td>มาตรา 82</td>\n",
       "      <td>_ตรวจแล้ว/พระราชบัญญัติแรงงานสัมพันธ์/พระราชบั...</td>\n",
       "      <td>พระราชบัญญัติแรงงานสัมพันธ์ (ฉบับที่ 3) พ.ศ. 2...</td>\n",
       "    </tr>\n",
       "    <tr>\n",
       "      <th>2</th>\n",
       "      <td>การยื่นอุทธรณ์ต้องทำภายในกี่เดือนหลังจากอ่านหร...</td>\n",
       "      <td>ต้องยื่นต่อศาลชั้นต้นในกำหนดหนึ่งเดือน</td>\n",
       "      <td>มาตรา 198 ของประมวลกฎหมายวิธีพิจารณาความอาญา</td>\n",
       "      <td>_ตรวจแล้ว/ประมวลกฎหมายวิธีพิจารณาความอาญา/ประม...</td>\n",
       "      <td>ประมวลกฎหมายวิธีพิจารณาความอาญา - ภาค 4 (อุทธร...</td>\n",
       "    </tr>\n",
       "    <tr>\n",
       "      <th>3</th>\n",
       "      <td>ศาลมีอำนาจใดบ้างเกี่ยวกับการรับฟังพยานหลักฐาน?</td>\n",
       "      <td>ศาลมีอำนาจปฏิเสธไม่รับพยานหลักฐานที่รับฟังไม่ไ...</td>\n",
       "      <td>อ้างอิงจากมาตรา 86 ของประมวลกฎหมายวิธีพิจารณาค...</td>\n",
       "      <td>_ตรวจแล้ว/ประมวลกฎหมายวิธีพิจารณาความแพ่ง/ประม...</td>\n",
       "      <td>ประมวลกฎหมายวิธีพิจารณาความแพ่ง - ภาค 1 (บททั่...</td>\n",
       "    </tr>\n",
       "    <tr>\n",
       "      <th>4</th>\n",
       "      <td>หากผู้เช่านาต้องการอุทธรณ์คำวินิจฉัยของคณะกรรม...</td>\n",
       "      <td>ผู้เช่านาต้องทำเป็นหนังสือยื่นต่อประธานคณะกรรม...</td>\n",
       "      <td>อ้างอิงจากมาตรา 56 ของพระราชบัญญัติการเช่าที่ด...</td>\n",
       "      <td>_ตรวจแล้ว/พระราชบัญญัติการเช่าที่ดินเพื่อเกษตร...</td>\n",
       "      <td>พระราชบัญญัติการเช่าที่ดินเพื่อเกษตรกรรม พ.ศ. ...</td>\n",
       "    </tr>\n",
       "  </tbody>\n",
       "</table>\n",
       "</div>"
      ],
      "text/plain": [
       "                                            question  \\\n",
       "0  ศาลมีอำนาจใดในการพิจารณาคดีเกี่ยวกับยาเสพติดตา...   \n",
       "1               เมื่อไหร่ที่สมาคมนายจ้างจะถือว่าเลิก   \n",
       "2  การยื่นอุทธรณ์ต้องทำภายในกี่เดือนหลังจากอ่านหร...   \n",
       "3     ศาลมีอำนาจใดบ้างเกี่ยวกับการรับฟังพยานหลักฐาน?   \n",
       "4  หากผู้เช่านาต้องการอุทธรณ์คำวินิจฉัยของคณะกรรม...   \n",
       "\n",
       "                                              answer  \\\n",
       "0  ศาลมีอำนาจพิจารณาพิพากษาคดีโดยคำนึงถึงการสงเคร...   \n",
       "1  สมาคมนายจ้างย่อมเลิกด้วยเหตุใดเหตุหนึ่ง ดังต่อ...   \n",
       "2             ต้องยื่นต่อศาลชั้นต้นในกำหนดหนึ่งเดือน   \n",
       "3  ศาลมีอำนาจปฏิเสธไม่รับพยานหลักฐานที่รับฟังไม่ไ...   \n",
       "4  ผู้เช่านาต้องทำเป็นหนังสือยื่นต่อประธานคณะกรรม...   \n",
       "\n",
       "                                          references  \\\n",
       "0                  มาตรา 165 ของประมวลกฎหมายยาเสพติด   \n",
       "1                                           มาตรา 82   \n",
       "2       มาตรา 198 ของประมวลกฎหมายวิธีพิจารณาความอาญา   \n",
       "3  อ้างอิงจากมาตรา 86 ของประมวลกฎหมายวิธีพิจารณาค...   \n",
       "4  อ้างอิงจากมาตรา 56 ของพระราชบัญญัติการเช่าที่ด...   \n",
       "\n",
       "                                              source  \\\n",
       "0  _ตรวจแล้ว/ประมวลกฎหมายยาเสพติด/ประมวลกฎหมายยาเ...   \n",
       "1  _ตรวจแล้ว/พระราชบัญญัติแรงงานสัมพันธ์/พระราชบั...   \n",
       "2  _ตรวจแล้ว/ประมวลกฎหมายวิธีพิจารณาความอาญา/ประม...   \n",
       "3  _ตรวจแล้ว/ประมวลกฎหมายวิธีพิจารณาความแพ่ง/ประม...   \n",
       "4  _ตรวจแล้ว/พระราชบัญญัติการเช่าที่ดินเพื่อเกษตร...   \n",
       "\n",
       "                                          knowledges  \n",
       "0  ประมวลกฎหมายยาเสพติด - ภาค 3 (บทกำหนดโทษ) - ลั...  \n",
       "1  พระราชบัญญัติแรงงานสัมพันธ์ (ฉบับที่ 3) พ.ศ. 2...  \n",
       "2  ประมวลกฎหมายวิธีพิจารณาความอาญา - ภาค 4 (อุทธร...  \n",
       "3  ประมวลกฎหมายวิธีพิจารณาความแพ่ง - ภาค 1 (บททั่...  \n",
       "4  พระราชบัญญัติการเช่าที่ดินเพื่อเกษตรกรรม พ.ศ. ...  "
      ]
     },
     "execution_count": 96,
     "metadata": {},
     "output_type": "execute_result"
    }
   ],
   "source": [
    "dataset_new.head(5)"
   ]
  },
  {
   "cell_type": "code",
   "execution_count": 97,
   "metadata": {},
   "outputs": [],
   "source": [
    "dataset_new.to_csv('dataset_v2.csv',index=False,encoding='utf-8')"
   ]
  },
  {
   "cell_type": "code",
   "execution_count": null,
   "metadata": {},
   "outputs": [],
   "source": []
  }
 ],
 "metadata": {
  "kernelspec": {
   "display_name": "Python 3",
   "language": "python",
   "name": "python3"
  },
  "language_info": {
   "codemirror_mode": {
    "name": "ipython",
    "version": 3
   },
   "file_extension": ".py",
   "mimetype": "text/x-python",
   "name": "python",
   "nbconvert_exporter": "python",
   "pygments_lexer": "ipython3",
   "version": "3.11.6"
  }
 },
 "nbformat": 4,
 "nbformat_minor": 2
}
